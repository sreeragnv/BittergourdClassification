version https://git-lfs.github.com/spec/v1
oid sha256:0cc12c42f316f40dfac0c800df2913294062187a16b9057858eb394d22e4b198
size 83474
